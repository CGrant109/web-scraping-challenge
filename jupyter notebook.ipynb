{
 "cells": [
  {
   "cell_type": "code",
   "execution_count": null,
   "id": "b53844f4",
   "metadata": {},
   "outputs": [],
   "source": [
    "import pandas as pd\n",
    "from sqlalchemy import create_engine"
   ]
  },
  {
   "cell_type": "code",
   "execution_count": null,
   "id": "d8801857",
   "metadata": {
    "scrolled": true
   },
   "outputs": [],
   "source": [
    "csv_file = \"Resources/basic_info.csv\"\n",
    "basic_player_data_df = pd.read_csv(csv_file)\n",
    "basic_player_data_df.head()"
   ]
  },
  {
   "cell_type": "code",
   "execution_count": null,
   "id": "c1a456b5",
   "metadata": {},
   "outputs": [],
   "source": [
    "new_basic_player_data_df = basic_player_data_df[['ID', 'Name', 'Age', 'Overall', 'Value']].copy()\n",
    "new_basic_player_data_df.head()"
   ]
  },
  {
   "cell_type": "code",
   "execution_count": null,
   "id": "9086f422",
   "metadata": {},
   "outputs": [],
   "source": [
    "csv_file = \"Resources/detailed_info.csv\"\n",
    "detailed_player_data_df = pd.read_csv(csv_file)\n",
    "detailed_player_data_df.head()"
   ]
  },
  {
   "cell_type": "code",
   "execution_count": null,
   "id": "619b6fe3",
   "metadata": {},
   "outputs": [],
   "source": [
    "new_detailed_player_data_df = detailed_player_data_df[['ID', 'FK Accuracy', 'Ball Control', 'Shot Power', 'Preferred foot']].copy()\n",
    "new_detailed_player_data_df.head()"
   ]
  },
  {
   "cell_type": "code",
   "execution_count": null,
   "id": "232c3a73",
   "metadata": {},
   "outputs": [],
   "source": [
    "# Connect to local database\n",
    "\n",
    "#protocol = 'postgresql'\n",
    "#username = 'postgres'\n",
    "#password = 'postgres'\n",
    "#host = 'localhost'\n",
    "#port = 5432\n",
    "#database_name = 'player_db'\n",
    "#rds_connection_string = f'{protocol}://{username}:{password}@{host}:{port}/{database_name}'\n",
    "#engine = create_engine(rds_connection_string)"
   ]
  },
  {
   "cell_type": "code",
   "execution_count": null,
   "id": "9e0f6fe1",
   "metadata": {},
   "outputs": [],
   "source": [
    "# Check for tables\n",
    "#engine.table_names()"
   ]
  },
  {
   "cell_type": "code",
   "execution_count": null,
   "id": "4260900e",
   "metadata": {},
   "outputs": [],
   "source": [
    "# Use pandas to load csv converted DataFrame into database\n",
    "#new_basic_player_data_df.to_sql(name='Name', con=engine, if_exists='append', index=False)"
   ]
  },
  {
   "cell_type": "code",
   "execution_count": null,
   "id": "db621ba0",
   "metadata": {
    "scrolled": true
   },
   "outputs": [],
   "source": [
    "# Merging both df's using a left join\n",
    "left_merge_df = pd.merge(new_basic_player_data_df, new_detailed_player_data_df, on=\"ID\", how=\"left\")\n",
    "left_merge_df"
   ]
  },
  {
   "cell_type": "code",
   "execution_count": null,
   "id": "94295e75",
   "metadata": {},
   "outputs": [],
   "source": [
    "# Find how many players are right foot dominant\n",
    "foot_counts = left_merge_df[\"Preferred foot\"].value_counts()\n",
    "foot_counts.head()"
   ]
  },
  {
   "cell_type": "code",
   "execution_count": null,
   "id": "0a872875",
   "metadata": {},
   "outputs": [],
   "source": [
    "# Find the average value of a player\n",
    "avg_player_value = left_merge_df.groupby(['Value']).mean()\n",
    "avg_player_value.head(10)"
   ]
  },
  {
   "cell_type": "code",
   "execution_count": null,
   "id": "cb7ca44e",
   "metadata": {},
   "outputs": [],
   "source": [
    "avg_player_value.sort_values(by= 'Value', ascending=False)"
   ]
  },
  {
   "cell_type": "code",
   "execution_count": null,
   "id": "6d62900d",
   "metadata": {},
   "outputs": [],
   "source": [
    "# Find the average shot power of a player\n",
    "avg_shot_power_value = left_merge_df.groupby(['Shot Power']).mean()\n",
    "avg_shot_power_value.head(10)"
   ]
  },
  {
   "cell_type": "code",
   "execution_count": null,
   "id": "fd45cd05",
   "metadata": {},
   "outputs": [],
   "source": [
    "avg_shot_power_value.sort_values(by= 'Shot Power', ascending=False)"
   ]
  },
  {
   "cell_type": "code",
   "execution_count": null,
   "id": "b28b0f08",
   "metadata": {},
   "outputs": [],
   "source": []
  },
  {
   "cell_type": "code",
   "execution_count": null,
   "id": "a511e0b6",
   "metadata": {},
   "outputs": [],
   "source": []
  }
 ],
 "metadata": {
  "kernelspec": {
   "display_name": "Python [conda env:PythonData38] *",
   "language": "python",
   "name": "conda-env-PythonData38-py"
  },
  "language_info": {
   "codemirror_mode": {
    "name": "ipython",
    "version": 3
   },
   "file_extension": ".py",
   "mimetype": "text/x-python",
   "name": "python",
   "nbconvert_exporter": "python",
   "pygments_lexer": "ipython3",
   "version": "3.8.12"
  }
 },
 "nbformat": 4,
 "nbformat_minor": 5
}
