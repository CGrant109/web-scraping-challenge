{
 "cells": [
  {
   "cell_type": "code",
   "execution_count": null,
   "id": "b53844f4",
   "metadata": {},
   "outputs": [],
   "source": [
    "#Dependencies\n",
    "import os\n",
    "from bs4 import BeautifulSoup\n",
    "import requests\n",
    "import numpy as np\n",
    "from splinter import Browser\n",
    "import pandas as pd\n",
    "import time\n",
    "from webdriver_manager.chrome import ChromeDriverManager\n",
    "from flask import Flask, render_template, redirect"
   ]
  },
  {
   "cell_type": "code",
   "execution_count": null,
   "id": "d8801857",
   "metadata": {
    "scrolled": true
   },
   "outputs": [],
   "source": [
    "# Setup configuration to enable Splinter to interact with browser\n",
    "executable_path = {'executable_path': ChromeDriverManager().install()}\n",
    "browser = Browser('chrome', **executable_path, headless=False)"
   ]
  },
  {
   "cell_type": "code",
   "execution_count": null,
   "id": "c1a456b5",
   "metadata": {},
   "outputs": [],
   "source": [
    "url = \"https://redplanetscience.com/\"\n",
    "browser.visit(url)\n",
    "\n",
    "html = browser.html\n",
    "soup = BeautifulSoup(html, \"html.parser\")"
   ]
  },
  {
   "cell_type": "code",
   "execution_count": null,
   "id": "9086f422",
   "metadata": {},
   "outputs": [],
   "source": [
    "# Examine the results\n",
    "print(soup.prettify())"
   ]
  },
  {
   "cell_type": "code",
   "execution_count": null,
   "id": "619b6fe3",
   "metadata": {},
   "outputs": [],
   "source": [
    "#Finding the latest news title and latest news teaser body\n",
    "news_title = soup.find('div', class_='content_title').text\n",
    "news_paragraph = soup.find('div', class_='article_teaser_body').text\n",
    "\n",
    "print(news_title)\n",
    "print(\"--------------------------------------------------------------------\")\n",
    "print(news_paragraph)"
   ]
  },
  {
   "cell_type": "code",
   "execution_count": null,
   "id": "232c3a73",
   "metadata": {},
   "outputs": [],
   "source": [
    "###JPL IMAGES"
   ]
  },
  {
   "cell_type": "code",
   "execution_count": null,
   "id": "9e0f6fe1",
   "metadata": {},
   "outputs": [],
   "source": [
    "#Scrape from site https://spaceimages-mars.com/\n",
    "url = \"https://spaceimages-mars.com/\"\n",
    "browser.visit(url)\n",
    "\n",
    "html = browser.html\n",
    "soup = BeautifulSoup(html, \"html.parser\")"
   ]
  },
  {
   "cell_type": "code",
   "execution_count": null,
   "id": "94295e75",
   "metadata": {},
   "outputs": [],
   "source": [
    "# Url of the Featured Image\n",
    "image_path = soup.find_all('img')[1][\"src\"]\n",
    "featured_image_url = url + image_path\n",
    "featured_image_url"
   ]
  },
  {
   "cell_type": "code",
   "execution_count": null,
   "id": "0a872875",
   "metadata": {},
   "outputs": [],
   "source": [
    "###Mars Facts"
   ]
  },
  {
   "cell_type": "code",
   "execution_count": null,
   "id": "cb7ca44e",
   "metadata": {},
   "outputs": [],
   "source": [
    "#Scrape from site https://galaxyfacts-mars.com/\n",
    "url = \"https://galaxyfacts-mars.com/\"\n",
    "browser.visit(url)\n",
    "html = browser.html"
   ]
  },
  {
   "cell_type": "code",
   "execution_count": null,
   "id": "6d62900d",
   "metadata": {},
   "outputs": [],
   "source": [
    "# Using Pandas to scrape the table on the Mars Facts page.\n",
    "table = pd.read_html(url)\n",
    "mars_planet_profile = table[1]\n",
    "\n",
    "\n",
    "# Renaming Columns\n",
    "mars_planet_profile.columns = ['', 'Values']\n",
    "mars_planet_profile.set_index('', inplace = True)\n",
    "mars_planet_profile"
   ]
  },
  {
   "cell_type": "code",
   "execution_count": null,
   "id": "fd45cd05",
   "metadata": {},
   "outputs": [],
   "source": [
    "# Use Pandas to convert the data to a HTML table string.\n",
    "mars_planet_profile.to_html('table.html')"
   ]
  },
  {
   "cell_type": "code",
   "execution_count": null,
   "id": "b28b0f08",
   "metadata": {},
   "outputs": [],
   "source": [
    "###Mars Hemispheres"
   ]
  },
  {
   "cell_type": "code",
   "execution_count": null,
   "id": "a511e0b6",
   "metadata": {},
   "outputs": [],
   "source": [
    "# Visit the Mars Hemispheres site for images:\n",
    "url = \"https://marshemispheres.com/\"\n",
    "browser.visit(url)\n",
    "\n",
    "html = browser.html\n",
    "soup = BeautifulSoup(html, \"html.parser\")"
   ]
  },
  {
   "cell_type": "code",
   "execution_count": null,
   "id": "9b1e5634",
   "metadata": {},
   "outputs": [],
   "source": [
    "#Save the image URL string for the full res hemisphere image and the hemisphere title containing the hemisphere name. \n",
    "#Use a Python dictionary to store the data using the keys img_url and title.\n",
    "hemisphere_image_urls=[]\n",
    "products = soup.find ('div', class_='result-list')\n",
    "hemispheres = products.find_all('div',{'class':'item'})\n",
    "\n",
    "for hemisphere in hemispheres:\n",
    "    title = hemisphere.find(\"h3\").text\n",
    "    title = title.replace(\"Enhanced\", \"\")\n",
    "    end_link = hemisphere.find(\"a\")[\"href\"]\n",
    "    image_link = \"https://marshemispheres.com/\" + end_link    \n",
    "    browser.visit(image_link)\n",
    "    html_hemispheres = browser.html\n",
    "    soup=BeautifulSoup(html_hemispheres, \"html.parser\")\n",
    "    downloads = soup.find(\"div\", class_=\"downloads\")\n",
    "    image_url = downloads.find(\"a\")[\"href\"]\n",
    "    hemisphere_image_urls.append({\"title\": title, \"img_url\": image_url})"
   ]
  },
  {
   "cell_type": "code",
   "execution_count": null,
   "id": "518f383b",
   "metadata": {},
   "outputs": [],
   "source": [
    "hemisphere_image_urls"
   ]
  },
  {
   "cell_type": "code",
   "execution_count": null,
   "id": "4b0eaf3d",
   "metadata": {},
   "outputs": [],
   "source": [
    "browser.quit()"
   ]
  }
 ],
 "metadata": {
  "kernelspec": {
   "display_name": "Python [conda env:PythonData38] *",
   "language": "python",
   "name": "conda-env-PythonData38-py"
  },
  "language_info": {
   "codemirror_mode": {
    "name": "ipython",
    "version": 3
   },
   "file_extension": ".py",
   "mimetype": "text/x-python",
   "name": "python",
   "nbconvert_exporter": "python",
   "pygments_lexer": "ipython3",
   "version": "3.8.12"
  }
 },
 "nbformat": 4,
 "nbformat_minor": 5
}
